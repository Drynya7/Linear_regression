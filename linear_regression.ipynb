{
  "nbformat": 4,
  "nbformat_minor": 0,
  "metadata": {
    "colab": {
      "provenance": []
    },
    "kernelspec": {
      "name": "python3",
      "display_name": "Python 3"
    },
    "language_info": {
      "name": "python"
    }
  },
  "cells": [
    {
      "cell_type": "code",
      "execution_count": null,
      "metadata": {
        "id": "fvOepCF90Tox"
      },
      "outputs": [],
      "source": [
        "import numpy as np\n",
        "import matplotlib.pyplot as plt\n",
        "from sklearn.linear_model import LinearRegression # подключим модель линейной регрессии"
      ]
    },
    {
      "cell_type": "code",
      "source": [
        "np.random.seed(11)\n",
        "\n",
        "x = np.random.randn(1,100) # генерируем случайно несколько примеров входа, одномерный.\n",
        "a, b = 5,-1 # коэффициенты зависимости в данных\n",
        "eps = .5 * np.random.randn(1,100) # шум с нормальным распределением\n",
        "y = b+ a*x + eps # примеры выхода"
      ],
      "metadata": {
        "id": "Ol7Udwn_m7t5"
      },
      "execution_count": null,
      "outputs": []
    },
    {
      "cell_type": "code",
      "source": [
        "new_ind = np.arange(100) #сгенерируем массив последовательных чисел по количесвту данных - индексы данных\n",
        "np.random.shuffle(new_ind)# случайно перемешаем их (переставим элементы массива)"
      ],
      "metadata": {
        "id": "vNLdvOqtnc3r"
      },
      "execution_count": null,
      "outputs": []
    },
    {
      "cell_type": "code",
      "source": [
        "train_idx = new_ind[:70]# первую часть индексов (с 0 до 69) определим как обучающие\n",
        "test_idx = new_ind[70:]# вторую часть индексов (с 70 до конца=99) определим как тестовые\n",
        "# используя эти индексы разделим массивы данных на обучающие и тестовые\n",
        "x_train, y_train = x[0][train_idx], y[0][train_idx]# обучающие вход и желаемый выход\n",
        "x_test, y_test = x[0][test_idx], y[0][test_idx]# тестовые вход и желаемый выход"
      ],
      "metadata": {
        "id": "KA9IoD0In1IU"
      },
      "execution_count": null,
      "outputs": []
    },
    {
      "cell_type": "code",
      "source": [
        "def plot_line_or_scatter(type_plot, x_data, y_data, x_label=\"\", y_label=\"\", title=\"\", color = \"r\", yscale_log=False):\n",
        "    _, ax = plt.subplots()\n",
        "    \n",
        "    if type_plot == 'scatter':\n",
        "        ax.scatter(x_data, y_data, s = 10, color = color, alpha = 0.75)\n",
        "    \n",
        "    else:\n",
        "        ax.plot(x_data, y_data, lw = 2, color = color, alpha = 1)\n",
        "        \n",
        "    ax.set_title(title)\n",
        "    ax.set_xlabel(x_label)\n",
        "    ax.set_ylabel(y_label) "
      ],
      "metadata": {
        "id": "FlKg3p9En5Su"
      },
      "execution_count": null,
      "outputs": []
    },
    {
      "cell_type": "code",
      "source": [
        "plot_line_or_scatter('scatter', x_train, y_train, color='green') # рисуем обучающие данные, зависимость желаемого выхода от входа"
      ],
      "metadata": {
        "colab": {
          "base_uri": "https://localhost:8080/",
          "height": 265
        },
        "id": "c7XMAW1VoDM3",
        "outputId": "f2cc3b84-2747-4013-a5c5-c9e840c1e16a"
      },
      "execution_count": null,
      "outputs": [
        {
          "output_type": "display_data",
          "data": {
            "text/plain": [
              "<Figure size 432x288 with 1 Axes>"
            ],
            "image/png": "[encoded data removed]"
          },
          "metadata": {
            "needs_background": "light"
          }
        }
      ]
    },
    {
      "cell_type": "code",
      "source": [
        "a = np.random.randn(1)\n",
        "b = np.random.randn(1)"
      ],
      "metadata": {
        "id": "HCpilrVgoE4S"
      },
      "execution_count": null,
      "outputs": []
    },
    {
      "cell_type": "code",
      "source": [
        "lr = 10e-3 # шаг обучения\n",
        "epochs = 100 # количество эпох"
      ],
      "metadata": {
        "id": "djP4-_w2odk9"
      },
      "execution_count": null,
      "outputs": []
    },
    {
      "cell_type": "code",
      "source": [
        "Loss = [] # массив для значений функции ошибки\n",
        "for ep in range(epochs): # в цикле по количеству эпох\n",
        "  y_pred = b + a*x_train # считаем выход модели для всех примеров входов с текущими значениями параметров модели\n",
        "  error = (y_pred - y_train) # считаем разницу между полученным выходом и тем, который должен был быть\n",
        "\n",
        "  loss = (error**2).mean() # считаем суммарную ошибку. Функция среднего mean() как замена суммирования по всем примерам \n",
        "  Loss.append(loss) # добавлем текущее значение в массив\n",
        "  b_grad = 2* error.mean() # считаем производную по параметру, смещению b (на 2 можно не умножать включив его в lr)\n",
        "  a_grad = a * (x_train*error).mean() # считаем производную по параметру, множителю a\n",
        "\n",
        "  a = a - lr*a_grad # изменяем параметр a\n",
        "  b = b - lr*b_grad # изменяем параметр b      \n",
        "  \n",
        "  if ep % 20 ==0 or ep ==epochs-1: # каждые 20 эпох будем\n",
        "    print('ep: %3d  loss: %8.6f   a=%4.3f  b=%4.3f'%(ep,loss,a,b)) # печатать значение функции ошибки"
      ],
      "metadata": {
        "colab": {
          "base_uri": "https://localhost:8080/"
        },
        "id": "jlDENOcYonjy",
        "outputId": "57cfe033-388b-4eeb-8238-f54c9df42996"
      },
      "execution_count": null,
      "outputs": [
        {
          "output_type": "stream",
          "name": "stdout",
          "text": [
            "ep:   0  loss: 15.529048   a=2.048  b=1.448\n",
            "ep:  20  loss: 6.197109   a=3.247  b=0.613\n",
            "ep:  40  loss: 2.146061   a=4.174  b=0.070\n",
            "ep:  60  loss: 0.859312   a=4.672  b=-0.284\n",
            "ep:  80  loss: 0.467265   a=4.887  b=-0.516\n",
            "ep:  99  loss: 0.333331   a=4.966  b=-0.662\n"
          ]
        }
      ]
    },
    {
      "cell_type": "code",
      "source": [
        "plt.plot(np.arange(epochs), Loss, color='green') # рисуем\n",
        "plt.yscale('log') # логарифмический масштаб для наглядности"
      ],
      "metadata": {
        "colab": {
          "base_uri": "https://localhost:8080/",
          "height": 265
        },
        "id": "W_rde2VhqH_H",
        "outputId": "cc8cffbf-b433-46c0-8959-3e48e263095f"
      },
      "execution_count": null,
      "outputs": [
        {
          "output_type": "display_data",
          "data": {
            "text/plain": [
              "<Figure size 432x288 with 1 Axes>"
            ],
            "image/png": "[encoded data removed]"
          },
          "metadata": {
            "needs_background": "light"
          }
        }
      ]
    },
    {
      "cell_type": "code",
      "source": [
        "y_test_pred = b + a*x_test # рассчитаем выходы модели на тестовых примерах входов\n",
        "#у нас уже были соответствующие желаемые тестовые выходы для них в y_test"
      ],
      "metadata": {
        "id": "cObalmbWqNOS"
      },
      "execution_count": null,
      "outputs": []
    },
    {
      "cell_type": "code",
      "source": [
        "plt.scatter(x_test, y_test,  color='black')\n",
        "plt.plot(x_test, y_test_pred, color='blue', linewidth=3)\n",
        "plt.show()"
      ],
      "metadata": {
        "colab": {
          "base_uri": "https://localhost:8080/",
          "height": 265
        },
        "id": "aI-L5XNFqNsA",
        "outputId": "a285647a-72e2-4a7f-9b7c-5ba3a2b2c300"
      },
      "execution_count": null,
      "outputs": [
        {
          "output_type": "display_data",
          "data": {
            "text/plain": [
              "<Figure size 432x288 with 1 Axes>"
            ],
            "image/png": "[encoded data removed]"
          },
          "metadata": {
            "needs_background": "light"
          }
        }
      ]
    },
    {
      "cell_type": "code",
      "source": [
        "linr = LinearRegression() # создадим регрессию\n",
        "linr.fit(x_train.reshape(70, 1), y_train.reshape(70, 1)) # обучим модель, принудительно переформатировав размеры массивов\n",
        "print('Обученные параметры: b=%6.4f a=%6.4f'%(linr.intercept_, linr.coef_)) \n",
        "\n",
        "y_test_pred=linr.predict(x_test.reshape(30,1))# посчитаем выход модели на тестовых примерах\n",
        "plt.plot(x_test, y_test_pred, color='blue', linewidth=3)# нарисуем его \n",
        "plt.scatter(x_test, y_test,  color='black') # и желаемый\n",
        "plt.show()"
      ],
      "metadata": {
        "colab": {
          "base_uri": "https://localhost:8080/",
          "height": 282
        },
        "id": "VY24DAI8qPbk",
        "outputId": "8a1a6083-7207-45fd-b710-8b1c3053001a"
      },
      "execution_count": null,
      "outputs": [
        {
          "output_type": "stream",
          "name": "stdout",
          "text": [
            "Обученные параметры: b=-0.9730 a=5.0047\n"
          ]
        },
        {
          "output_type": "display_data",
          "data": {
            "text/plain": [
              "<Figure size 432x288 with 1 Axes>"
            ],
            "image/png": "[encoded data removed]"
          },
          "metadata": {
            "needs_background": "light"
          }
        }
      ]
    }
  ]
}